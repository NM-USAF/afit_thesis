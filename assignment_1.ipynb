{
 "cells": [
  {
   "cell_type": "code",
   "execution_count": 4,
   "metadata": {},
   "outputs": [],
   "source": [
    "import numpy as np\n",
    "import pure_pursuit as pp\n",
    "import matplotlib.pyplot as plt\n",
    "import ipywidgets"
   ]
  },
  {
   "cell_type": "markdown",
   "metadata": {},
   "source": [
    "## a)\n",
    "\n",
    "For $-\\frac{\\pi}{2} \\leq \\theta \\leq \\frac{\\pi}{2}$ and for a range of $0 < \\mu < 3$, including a graph for $\\mu=1$, plot the function $\\frac{r(\\phi;\\theta,\\mu)}{d}$ as a function of $\\frac{\\pi}{2} \\geq \\phi > \\theta$"
   ]
  },
  {
   "cell_type": "code",
   "execution_count": 11,
   "metadata": {},
   "outputs": [
    {
     "data": {
      "application/vnd.jupyter.widget-view+json": {
       "model_id": "16bdc468bef64449865efc9094f14f0c",
       "version_major": 2,
       "version_minor": 0
      },
      "text/plain": [
       "interactive(children=(FloatSlider(value=1.5, description='mu', max=3.0, step=0.01), FloatSlider(value=-0.00079…"
      ]
     },
     "metadata": {},
     "output_type": "display_data"
    },
    {
     "data": {
      "text/plain": [
       "<function __main__.plot_r(mu, theta)>"
      ]
     },
     "execution_count": 11,
     "metadata": {},
     "output_type": "execute_result"
    }
   ],
   "source": [
    "def plot_r(mu, theta):\n",
    "    phi = np.linspace(theta, np.pi/2, 100)\n",
    "    r = pp.r(phi, theta, mu)\n",
    "    print(np.min(r))\n",
    "    plt.title(\"Distance Ratio (r/d) against Persuer Heading (phi)\")\n",
    "    plt.xlabel(\"phi\")\n",
    "    plt.ylabel(\"r/d\")\n",
    "    plt.plot(phi, r)\n",
    "    \n",
    "mu_bounds = (0.0,3.0,0.01)\n",
    "theta_bounds = (-np.pi/2, np.pi/2, 0.01)\n",
    "ipywidgets.interact(plot_r, mu=mu_bounds, theta=theta_bounds)"
   ]
  },
  {
   "cell_type": "markdown",
   "metadata": {},
   "source": [
    "## b)\n",
    "\n",
    "Provide a plot of $\\phi_c(\\theta, \\frac{l}{d})$"
   ]
  },
  {
   "cell_type": "code",
   "execution_count": 10,
   "metadata": {},
   "outputs": [
    {
     "data": {
      "application/vnd.jupyter.widget-view+json": {
       "model_id": "533715c23c3b424192d1677e11f9aaf7",
       "version_major": 2,
       "version_minor": 0
      },
      "text/plain": [
       "interactive(children=(FloatSlider(value=0.5, description='d', max=1.0, step=0.01), FloatSlider(value=0.5, desc…"
      ]
     },
     "metadata": {},
     "output_type": "display_data"
    },
    {
     "data": {
      "text/plain": [
       "<function __main__.plot_phi_cap(d, l, mu=2)>"
      ]
     },
     "execution_count": 10,
     "metadata": {},
     "output_type": "execute_result"
    }
   ],
   "source": [
    "# This isn't right, should be phi_cap > 0 when mu >= 1\n",
    "def plot_phi_cap(d, l, mu=2):\n",
    "    th_max = np.arcsin(2*l/d - 1)\n",
    "    \n",
    "    if mu == 1:\n",
    "        print(f\"Theta in [{-np.pi/2}, {th_max}]\")\n",
    "        theta = np.linspace(-np.pi/2, th_max, 100)\n",
    "    else:\n",
    "        print(f\"Theta in [{-np.pi/2}, 0]\")\n",
    "        theta = np.linspace(-np.pi/2, 0, 100)\n",
    "    phi_cap = pp.phi_cap_1(theta, d/l, mu=mu)\n",
    "    print(f\"phi_cap[{theta[-1]}] = {phi_cap[-1]}\")\n",
    "    display(f\"l/d={l/d}\")\n",
    "    plt.title(f\"Persuer Heading at Capture (phi_cap) against Evader Heading (theta) for mu={mu}\")\n",
    "    plt.xlabel(\"theta\")\n",
    "    plt.ylabel(\"phi_cap\")\n",
    "    plt.plot(theta, phi_cap)\n",
    "    \n",
    "d_l_bounds = (0.0, 1.0, 0.01)\n",
    "ipywidgets.interact(plot_phi_cap, l=d_l_bounds, d=d_l_bounds)"
   ]
  },
  {
   "cell_type": "markdown",
   "metadata": {},
   "source": [
    "## c)\n",
    "\n",
    "Plot $\\frac{t_c(\\theta;\\frac{l}{d})}{d}$ where the range of $\\theta$ is chosen such that $\\frac{l}{d} > \\frac{1+sin\\theta}{2}$"
   ]
  },
  {
   "cell_type": "code",
   "execution_count": 7,
   "metadata": {},
   "outputs": [
    {
     "data": {
      "application/vnd.jupyter.widget-view+json": {
       "model_id": "168e9474fb75443a906dc13a07201fed",
       "version_major": 2,
       "version_minor": 0
      },
      "text/plain": [
       "interactive(children=(FloatSlider(value=0.5, description='d', max=1.0, step=0.01), FloatSlider(value=0.5, desc…"
      ]
     },
     "metadata": {},
     "output_type": "display_data"
    },
    {
     "data": {
      "text/plain": [
       "<function __main__.plot_t_cap(d, l, mu=2)>"
      ]
     },
     "execution_count": 7,
     "metadata": {},
     "output_type": "execute_result"
    }
   ],
   "source": [
    "def plot_t_cap(d, l, mu=2):\n",
    "    th_max = np.arcsin(2*l/d - 1)\n",
    "    th_min = -np.pi - th_max\n",
    "    theta = np.linspace(max(-np.pi, th_min), th_max, 200)\n",
    "    theta = theta[1:-1] # remove endpoints for numerical stability\n",
    "    t_c = pp.t_cap_1(theta, l/d, mu)\n",
    "    display(f\"theta in [{theta[0]},{theta[-1]}]\")\n",
    "    display(f\"l/d = {l/d}\")\n",
    "    plt.title(f\"Distance Normalized Time to Capture (t_cap/d) against Evader Heading (theta) for mu={mu}\")\n",
    "    plt.xlabel(\"theta\")\n",
    "    plt.ylabel(\"t_cap/d\")\n",
    "    plt.plot(theta, t_c)\n",
    "\n",
    "d_l_bounds = (0.0, 1.0, 0.01)\n",
    "ipywidgets.interact(plot_t_cap, l=d_l_bounds, d=d_l_bounds)"
   ]
  },
  {
   "cell_type": "code",
   "execution_count": null,
   "metadata": {},
   "outputs": [],
   "source": []
  }
 ],
 "metadata": {
  "kernelspec": {
   "display_name": "Python 3.10.4 64-bit",
   "language": "python",
   "name": "python3"
  },
  "language_info": {
   "codemirror_mode": {
    "name": "ipython",
    "version": 3
   },
   "file_extension": ".py",
   "mimetype": "text/x-python",
   "name": "python",
   "nbconvert_exporter": "python",
   "pygments_lexer": "ipython3",
   "version": "3.10.6"
  },
  "orig_nbformat": 4,
  "vscode": {
   "interpreter": {
    "hash": "916dbcbb3f70747c44a77c7bcd40155683ae19c65e1c03b4aa3499c5328201f1"
   }
  }
 },
 "nbformat": 4,
 "nbformat_minor": 2
}
