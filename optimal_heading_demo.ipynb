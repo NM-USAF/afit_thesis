{
 "cells": [
  {
   "cell_type": "code",
   "execution_count": 6,
   "metadata": {},
   "outputs": [],
   "source": [
    "import pure_pursuit as pp\n",
    "import matplotlib.pyplot as plt\n",
    "import numpy as np\n",
    "\n",
    "PURSUER_COLOR=\"tab:red\"\n",
    "EVADER_COLOR=\"tab:blue\"\n",
    "SUCCESS_COLOR=\"tab:green\"\n",
    "FAIL_COLOR=\"tab:orange\"\n",
    "\n",
    "def plot_engagement(d_left, d_right, lod_left, lod_right, angle_between, mu):\n",
    "    d_left = np.array([d_left])\n",
    "    d_right = np.array([d_right])\n",
    "    angle_between = np.array([angle_between])\n",
    "\n",
    "    ha = angle_between/2\n",
    "\n",
    "    th_l = pp.optimal_evader_heading(d_left/d_right, lod_left, lod_right, angle_between, mu, 30)\n",
    "    th_r = angle_between - th_l - np.pi\n",
    "    print(th_l, th_r)\n",
    "\n",
    "    l_left = lod_left * d_left\n",
    "    l_right = lod_right * d_right\n",
    "\n",
    "    r_min_l = pp.r_min(th_l, mu)\n",
    "    r_min_r = pp.r_min(th_r, mu)\n",
    "    print(r_min_l * d_left - l_left)\n",
    "    print(r_min_r * d_right - l_right)\n",
    "\n",
    "    th_adj = -th_l + angle_between/2 - np.pi/2\n",
    "    d_max = max(d_left, d_right)\n",
    "\n",
    "    success = r_min_l * d_left > l_left and r_min_r * d_right > l_right\n",
    "\n",
    "    # draw actors\n",
    "    plt.scatter([0], [0], c=EVADER_COLOR)\n",
    "\n",
    "    left_pos = [np.cos(ha)*d_left, np.sin(ha)*d_left]\n",
    "    right_pos = [np.cos(-ha) * d_right, np.sin(-ha) * d_right]\n",
    "    plt.scatter(\n",
    "        [left_pos[0], right_pos[0]], \n",
    "        [left_pos[1], right_pos[1]],\n",
    "        c=PURSUER_COLOR\n",
    "    )\n",
    "\n",
    "    # draw trajectories\n",
    "    plt.plot(\n",
    "        [0, np.cos(th_adj) * d_max],\n",
    "        [0, np.sin(th_adj) * d_max],\n",
    "        c=SUCCESS_COLOR if success else FAIL_COLOR\n",
    "    )\n",
    "\n",
    "    plt.plot(\n",
    "        [np.cos(ha) * (d_left - 0.5/mu), np.cos(ha) * d_left],\n",
    "        [np.sin(ha) * (d_left - 0.5/mu), np.sin(ha) * d_left],\n",
    "        c=PURSUER_COLOR\n",
    "    )\n",
    "\n",
    "    plt.plot(\n",
    "        [np.cos(-ha) * (d_right - 0.5 / mu), np.cos(-ha) * d_right],\n",
    "        [np.sin(-ha) * (d_right - 0.5 / mu), np.sin(-ha) * d_right],\n",
    "        c=PURSUER_COLOR\n",
    "    )\n",
    "\n",
    "    # draw capture radius\n",
    "    ax = plt.gca()\n",
    "\n",
    "    cap_l = plt.Circle(left_pos, l_left, color=PURSUER_COLOR, alpha=0.3)\n",
    "    cap_r = plt.Circle(right_pos, l_right, color=PURSUER_COLOR, alpha=0.3)\n",
    "\n",
    "    ax.add_patch(cap_l)\n",
    "    ax.add_patch(cap_r)\n",
    "\n",
    "    ax.set_aspect(\"equal\")\n",
    "    plt.axis(\"square\")\n",
    "\n"
   ]
  },
  {
   "cell_type": "code",
   "execution_count": 7,
   "metadata": {},
   "outputs": [
    {
     "data": {
      "application/vnd.jupyter.widget-view+json": {
       "model_id": "dfd7778a309242b1b917ec8a89328065",
       "version_major": 2,
       "version_minor": 0
      },
      "text/plain": [
       "interactive(children=(FloatSlider(value=2.5500000000000003, description='d_left', max=5.0, min=0.1), FloatSlid…"
      ]
     },
     "metadata": {},
     "output_type": "display_data"
    },
    {
     "data": {
      "text/plain": [
       "<function __main__.plot_engagement(d_left, d_right, lod_left, lod_right, angle_between, mu)>"
      ]
     },
     "execution_count": 7,
     "metadata": {},
     "output_type": "execute_result"
    }
   ],
   "source": [
    "import ipywidgets\n",
    "\n",
    "# note: when mu is high enough, optimal angle is nan at high angle_between\n",
    "ipywidgets.interact(\n",
    "    plot_engagement,\n",
    "    d_left=(0.1, 5.0),\n",
    "    d_right=(0.1, 5.0),\n",
    "    lod_left=(0.1, 1.0, 0.01),\n",
    "    lod_right=(0.1, 1.0, 0.01),\n",
    "    angle_between=(0.001, np.pi),\n",
    "    mu=(1.1, 5.0)\n",
    ")"
   ]
  },
  {
   "cell_type": "code",
   "execution_count": null,
   "metadata": {},
   "outputs": [],
   "source": []
  }
 ],
 "metadata": {
  "kernelspec": {
   "display_name": "Python 3",
   "language": "python",
   "name": "python3"
  },
  "language_info": {
   "codemirror_mode": {
    "name": "ipython",
    "version": 3
   },
   "file_extension": ".py",
   "mimetype": "text/x-python",
   "name": "python",
   "nbconvert_exporter": "python",
   "pygments_lexer": "ipython3",
   "version": "3.10.6"
  },
  "orig_nbformat": 4
 },
 "nbformat": 4,
 "nbformat_minor": 2
}
